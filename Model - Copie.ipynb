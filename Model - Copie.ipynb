{
 "cells": [
  {
   "cell_type": "code",
   "execution_count": 1,
   "metadata": {},
   "outputs": [
    {
     "name": "stdout",
     "output_type": "stream",
     "text": [
      "Taille de l'ensemble d'entraînement: (42000, 28, 28)\n",
      "Taille de l'ensemble de validation: (18000, 28, 28)\n",
      "Taille de l'ensemble de test: (10000, 28, 28)\n"
     ]
    }
   ],
   "source": [
    "\n",
    "import tensorflow as tf\n",
    "from sklearn.model_selection import train_test_split\n",
    "\n",
    "# Chargement des données MNIST\n",
    "mnist = tf.keras.datasets.mnist\n",
    "(x_train, y_train), (x_test, y_test) = mnist.load_data()\n",
    "\n",
    "# Normalisation des images\n",
    "x_train, x_test = x_train / 255.0, x_test / 255.0\n",
    "\n",
    "# Diviser le jeu de données en ensembles d'entraînement et de test (70% - 30%)\n",
    "x_train, x_val, y_train, y_val = train_test_split(x_train, y_train, test_size=0.3, random_state=42)\n",
    "\n",
    "print(f'Taille de l\\'ensemble d\\'entraînement: {x_train.shape}')\n",
    "print(f'Taille de l\\'ensemble de validation: {x_val.shape}')\n",
    "print(f'Taille de l\\'ensemble de test: {x_test.shape}')\n"
   ]
  },
  {
   "cell_type": "code",
   "execution_count": 2,
   "metadata": {},
   "outputs": [
    {
     "name": "stdout",
     "output_type": "stream",
     "text": [
      "Rapport de classification pour SVM:\n",
      "               precision    recall  f1-score   support\n",
      "\n",
      "           0       0.95      0.98      0.96       980\n",
      "           1       0.97      0.98      0.98      1135\n",
      "           2       0.92      0.93      0.92      1032\n",
      "           3       0.91      0.92      0.92      1010\n",
      "           4       0.94      0.96      0.95       982\n",
      "           5       0.91      0.90      0.90       892\n",
      "           6       0.96      0.95      0.96       958\n",
      "           7       0.95      0.93      0.94      1028\n",
      "           8       0.92      0.90      0.91       974\n",
      "           9       0.94      0.91      0.93      1009\n",
      "\n",
      "    accuracy                           0.94     10000\n",
      "   macro avg       0.94      0.94      0.94     10000\n",
      "weighted avg       0.94      0.94      0.94     10000\n",
      "\n",
      "Précision pour SVM: 0.9377\n"
     ]
    }
   ],
   "source": [
    "from sklearn import svm\n",
    "from sklearn.metrics import classification_report, accuracy_score\n",
    "\n",
    "# Aplatir les images pour SVM\n",
    "x_train_flat = x_train.reshape(-1, 28*28)\n",
    "x_val_flat = x_val.reshape(-1, 28*28)\n",
    "x_test_flat = x_test.reshape(-1, 28*28)\n",
    "\n",
    "# Entraîner un classificateur SVM\n",
    "svm_clf = svm.SVC(kernel='linear')\n",
    "svm_clf.fit(x_train_flat, y_train)\n",
    "\n",
    "# Prédiction et évaluation\n",
    "y_pred_svm = svm_clf.predict(x_test_flat)\n",
    "print(\"Rapport de classification pour SVM:\\n\", classification_report(y_test, y_pred_svm))\n",
    "print(\"Précision pour SVM:\", accuracy_score(y_test, y_pred_svm))\n"
   ]
  },
  {
   "cell_type": "code",
   "execution_count": 5,
   "metadata": {},
   "outputs": [
    {
     "name": "stdout",
     "output_type": "stream",
     "text": [
      "Rapport de classification pour k-NN:\n",
      "               precision    recall  f1-score   support\n",
      "\n",
      "           0       0.97      0.99      0.98       980\n",
      "           1       0.95      1.00      0.97      1135\n",
      "           2       0.98      0.96      0.97      1032\n",
      "           3       0.96      0.96      0.96      1010\n",
      "           4       0.97      0.97      0.97       982\n",
      "           5       0.96      0.97      0.97       892\n",
      "           6       0.98      0.98      0.98       958\n",
      "           7       0.96      0.96      0.96      1028\n",
      "           8       0.98      0.92      0.95       974\n",
      "           9       0.96      0.95      0.95      1009\n",
      "\n",
      "    accuracy                           0.97     10000\n",
      "   macro avg       0.97      0.97      0.97     10000\n",
      "weighted avg       0.97      0.97      0.97     10000\n",
      "\n",
      "Précision pour k-NN: 0.9672\n"
     ]
    }
   ],
   "source": [
    "from sklearn.neighbors import KNeighborsClassifier\n",
    "\n",
    "# Entraîner un classificateur k-NN\n",
    "knn_clf = KNeighborsClassifier(n_neighbors=3)\n",
    "knn_clf.fit(x_train_flat, y_train)\n",
    "\n",
    "# Prédiction et évaluation\n",
    "y_pred_knn = knn_clf.predict(x_test_flat)\n",
    "print(\"Rapport de classification pour k-NN:\\n\", classification_report(y_test, y_pred_knn))\n",
    "print(\"Précision pour k-NN:\", accuracy_score(y_test, y_pred_knn))\n"
   ]
  },
  {
   "cell_type": "code",
   "execution_count": 5,
   "metadata": {},
   "outputs": [],
   "source": [
    "import streamlit as st\n",
    "import numpy as np\n",
    "from PIL import Image\n",
    "from sklearn import svm\n",
    "import tensorflow as tf\n",
    "\n",
    "# Load the MNIST dataset and train an SVM model\n",
    "mnist = tf.keras.datasets.mnist\n",
    "(x_train, y_train), (x_test, y_test) = mnist.load_data()\n",
    "x_train, x_test = x_train / 255.0, x_test / 255.0\n",
    "x_train_flat = x_train.reshape(-1, 28*28)\n",
    "x_test_flat = x_test.reshape(-1, 28*28)\n",
    "\n",
    "svm_clf = svm.SVC(kernel='linear')\n",
    "svm_clf.fit(x_train_flat, y_train)\n",
    "\n",
    "# Function to predict the class of an image\n",
    "def predict_image(image):\n",
    "    img = image.convert('L').resize((28, 28))\n",
    "    img_array = np.array(img).reshape(1, 28*28) / 255.0\n",
    "    prediction = svm_clf.predict(img_array)\n",
    "    return prediction[0]\n",
    "\n",
    "# Streamlit interface\n",
    "st.title(\"Image Classification Of Handwritten Digits\")\n",
    "st.write(\"Upload an image of a handwritten digit (0-9) and the model will predict its class.\")\n",
    "\n",
    "uploaded_file = st.file_uploader(\"Choose an image...\", type=[\"jpg\", \"jpeg\", \"png\"])\n",
    "\n",
    "if uploaded_file is not None:\n",
    "    image = Image.open(uploaded_file)\n",
    "    st.image(image, caption='Uploaded Image', use_column_width=True)\n",
    "    \n",
    "    st.write(\"\")\n",
    "    st.write(\"Classifying...\")\n",
    "    \n",
    "    label = predict_image(image)\n",
    "    st.write(f\"Prediction: {label}\")\n",
    "   \n"
   ]
  }
 ],
 "metadata": {
  "kernelspec": {
   "display_name": "Python 3",
   "language": "python",
   "name": "python3"
  },
  "language_info": {
   "codemirror_mode": {
    "name": "ipython",
    "version": 3
   },
   "file_extension": ".py",
   "mimetype": "text/x-python",
   "name": "python",
   "nbconvert_exporter": "python",
   "pygments_lexer": "ipython3",
   "version": "3.11.5"
  }
 },
 "nbformat": 4,
 "nbformat_minor": 2
}
